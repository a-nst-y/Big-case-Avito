{
 "cells": [
  {
   "cell_type": "code",
   "execution_count": 1,
   "id": "4f5713c3",
   "metadata": {},
   "outputs": [],
   "source": [
    "import psycopg2 as ps\n",
    "import pandas as pd\n",
    "import numpy as np\n",
    "\n",
    "import psycopg2 as ps\n",
    "import pandas as pd\n",
    "import numpy as np\n",
    "import matplotlib.pyplot as plt\n",
    "import seaborn as sns\n",
    "import plotly.express as px\n",
    "import warnings\n",
    "warnings.filterwarnings('ignore')\n",
    "import scipy.stats as stats\n",
    "\n",
    "%matplotlib inline\n",
    "\n",
    "%config InlineBackend.figure_format = 'retina'\n",
    "plt.rcParams['figure.figsize'] = 8, 8\n",
    "plt.rcParams['font.size'] = 12\n",
    "sns.set_style('darkgrid')\n",
    "\n",
    "sns.set(style=\"darkgrid\")"
   ]
  },
  {
   "cell_type": "code",
   "execution_count": 2,
   "id": "ef78c96e",
   "metadata": {},
   "outputs": [],
   "source": [
    "import scipy.stats.distributions as dist\n",
    "\n",
    "def z_test_2_sample_proportions(x_control, x_test, n_control, n_test, alpha):\n",
    "    '''\n",
    "    Calculate the test statistic for a z-test on 2 proportions from independent samples\n",
    "    x1, x2: number of successes in group 1 and 2\n",
    "    n1, n2: total number of observations in group 1 and 2\n",
    "    Returns: test statistic (z), and p-value \n",
    "    '''\n",
    "    avg_p = (x_control + x_test) / (n_control + n_test)\n",
    "    z_val = (x_control/n_control - x_test/n_test) / np.sqrt(avg_p * (1-avg_p) * (1/n_control + 1/n_test))\n",
    "    z_prob = dist.norm.cdf(-np.abs(z_val))\n",
    "    \n",
    "    if 2*z_prob < alpha:\n",
    "        print(f'p-value = {2*z_prob}, нулевая гипотеза отвергается - изменение статистически значимо')\n",
    "        print(f'Изменение теста по сравнению с контролем составило {(x_test/n_test - x_control/n_control) * 100/(x_control/n_control)}%')\n",
    "        print(f'Среднее в контроле - {round(x_control/n_control,3)}, среднее в тесте - {round(x_test/n_test,3)}')\n",
    "    else:\n",
    "        print(f'p-value = {2*z_prob}, нулевая гипотеза не отвергается - изменение статистически не значимо')\n",
    "        print(f'Изменение теста по сравнению с контролем составило {(x_test/n_test - x_control/n_control) * 100/(x_control/n_control)}%')\n",
    "        print(f'Среднее в контроле - {round(x_control/n_control,3)}, среднее в тесте - {round(x_test/n_test,3)}')"
   ]
  },
  {
   "cell_type": "code",
   "execution_count": 3,
   "id": "0ac635e3",
   "metadata": {},
   "outputs": [],
   "source": [
    "def ttest(control, test, alpha):\n",
    "    res = stats.ttest_ind(a=control, b=test, equal_var=False)\n",
    "    \n",
    "    if res.pvalue < alpha:\n",
    "        print(f'p-value = {round(res.pvalue, 4)}, нулевая гипотеза отвергается - изменение статистически значимо')\n",
    "        print(f'Изменение теста по сравнению с контролем составило {round((test.mean() - control.mean()) * 100/(control.mean()),3)}%')\n",
    "        print(f'Среднее в контроле - {round(control.mean(),3)}, среднее в тесте - {round(test.mean(),3)}')\n",
    "    else:\n",
    "        print(f'p-value = {round(res.pvalue, 4)}, нулевая гипотеза не отвергается - изменение статистически не значимо')\n",
    "        print(f'Изменение теста по сравнению с контролем составило {round((test.mean() - control.mean()) * 100/(control.mean()),3)}%')\n",
    "        print(f'Среднее в контроле - {round(control.mean(),3)}, среднее в тесте - {round(test.mean(),3)}')"
   ]
  },
  {
   "cell_type": "code",
   "execution_count": 4,
   "id": "f869a984",
   "metadata": {},
   "outputs": [],
   "source": [
    "conn = ps.connect(host=\"46.34.136.91\", port = 25432, database=\"postgres\", \n",
    "                  user=\"aaa_student\", password=\"student_@@@_2022\")"
   ]
  },
  {
   "cell_type": "markdown",
   "id": "ee8e5410",
   "metadata": {},
   "source": [
    "<center><h2> Анализ результатов </center></h2>\n",
    "\n",
    "Все метрики посчитаны как поюзерные а не ratio, чтобы обеспечить независимость наблюдений. Во всех проверках гипотез используется поправка Бонферони, где уровень значимости каждой гипотезы определяется как $\\frac{\\alpha}{m}$, где $m$ - количество проверяемых гипотез. В данном случае $m = 2,\\alpha = 5%$, то есть скорректированное значение уровня значимости будет равняться 2.5%\n",
    "\n",
    "<center><h3> Верифицировавшихся за период проведения эксперимента пользователи - целевая </center></h3>"
   ]
  },
  {
   "cell_type": "code",
   "execution_count": 5,
   "id": "e6f46bfa",
   "metadata": {},
   "outputs": [],
   "source": [
    "df_ver_number = pd.read_sql(\"\"\"with verificated as (select distinct user_id,\n",
    "                                                           1 as ver_done\n",
    "                                                    from PUBLIC.services_verification_discounts\n",
    "                                                    where discount_day  between '2021-09-15' and '2023-10-05')\n",
    "\n",
    "                              select v.user_id,\n",
    "                                     v.ver_done,\n",
    "                                     sves.experiment_group \n",
    "                              from PUBLIC.services_verification_experiment_segment sves \n",
    "                              left join verificated v\n",
    "                                  on v.user_id = sves.user_id \"\"\", con=conn)"
   ]
  },
  {
   "cell_type": "code",
   "execution_count": 6,
   "id": "2eef58cf",
   "metadata": {},
   "outputs": [],
   "source": [
    "df_ver_number = df_ver_number.fillna(0)"
   ]
  },
  {
   "cell_type": "code",
   "execution_count": 7,
   "id": "5b1786e0",
   "metadata": {},
   "outputs": [],
   "source": [
    "df_30_discount = df_ver_number[df_ver_number['experiment_group'] == '30_discount']['ver_done']\n",
    "df_60_discount = df_ver_number[df_ver_number['experiment_group'] == '60_discount']['ver_done']\n",
    "df_no_discount = df_ver_number[df_ver_number['experiment_group'] == 'no_discount']['ver_done']"
   ]
  },
  {
   "cell_type": "code",
   "execution_count": 8,
   "id": "602e5109",
   "metadata": {},
   "outputs": [
    {
     "name": "stdout",
     "output_type": "stream",
     "text": [
      "p-value = 9.703902026399639e-09, нулевая гипотеза отвергается - изменение статистически значимо\n",
      "Изменение теста по сравнению с контролем составило 9.907089093964023%\n",
      "Среднее в контроле - 0.027, среднее в тесте - 0.03\n"
     ]
    }
   ],
   "source": [
    "x_control = df_no_discount.sum()\n",
    "x_test = df_30_discount.sum()\n",
    "\n",
    "n_control = len(df_no_discount)\n",
    "n_test = len(df_30_discount)\n",
    "\n",
    "alpha = 0.025\n",
    "\n",
    "z_test_2_sample_proportions(x_control, x_test, n_control, n_test, alpha)"
   ]
  },
  {
   "cell_type": "code",
   "execution_count": 9,
   "id": "5b5bdf8f",
   "metadata": {},
   "outputs": [
    {
     "name": "stdout",
     "output_type": "stream",
     "text": [
      "p-value = 1.1864541252784637e-35, нулевая гипотеза отвергается - изменение статистически значимо\n",
      "Изменение теста по сравнению с контролем составило 22.127980498278035%\n",
      "Среднее в контроле - 0.027, среднее в тесте - 0.033\n"
     ]
    }
   ],
   "source": [
    "x_control = df_no_discount.sum()\n",
    "x_test = df_60_discount.sum()\n",
    "\n",
    "n_control = len(df_no_discount)\n",
    "n_test = len(df_60_discount)\n",
    "\n",
    "alpha = 0.025\n",
    "\n",
    "z_test_2_sample_proportions(x_control, x_test, n_control, n_test, alpha)"
   ]
  },
  {
   "cell_type": "markdown",
   "id": "8811cc9d",
   "metadata": {},
   "source": [
    "Главная гипотеза подтвердилась, покупатели действительно стали верифицироваться чаще при предоставлении скидки. Причем в группе со скидкой 60% эта разница намного выше."
   ]
  },
  {
   "cell_type": "markdown",
   "id": "1a125260",
   "metadata": {},
   "source": [
    "<center><h3> Количество купленных услуг по продвижению типа 3 - целевая </center></h3>"
   ]
  },
  {
   "cell_type": "code",
   "execution_count": 10,
   "id": "c7d3c0ad",
   "metadata": {},
   "outputs": [],
   "source": [
    "df_cnt_buy = pd.read_sql(\"\"\"with buy as (select upi.user_id,\n",
    "                                            count(upi.item_id) as cnt\n",
    "                                     from PUBLIC.user_payments_info upi\n",
    "                                     left join PUBLIC.user_item_info uii \n",
    "                                         on uii.item_id  = upi.item_id \n",
    "                                     where upi.event_time between '2021-09-15' and '2023-10-05'\n",
    "                                         and upi.transaction_type  = '3'\n",
    "                                         and uii.item_vertical  = '1'\n",
    "                                     group by upi.user_id)\n",
    "\n",
    "select b.user_id,\n",
    "       b.cnt,\n",
    "       sves.experiment_group \n",
    "from PUBLIC.services_verification_experiment_segment sves \n",
    "left join buy b\n",
    "    on b.user_id = sves.user_id \n",
    "where b.user_id in (select user_id \n",
    "                    from PUBLIC.services_verification_discounts\n",
    "                    where  discount_day  between '2021-09-15' and '2023-10-05')\"\"\", con=conn)"
   ]
  },
  {
   "cell_type": "code",
   "execution_count": 11,
   "id": "d029da87",
   "metadata": {},
   "outputs": [],
   "source": [
    "df_cnt_buy = df_cnt_buy.fillna(0)"
   ]
  },
  {
   "cell_type": "code",
   "execution_count": 12,
   "id": "fbdf52c2",
   "metadata": {},
   "outputs": [],
   "source": [
    "df_30_discount = df_cnt_buy[df_cnt_buy['experiment_group'] == '30_discount']['cnt']\n",
    "df_60_discount = df_cnt_buy[df_cnt_buy['experiment_group'] == '60_discount']['cnt']\n",
    "df_no_discount = df_cnt_buy[df_cnt_buy['experiment_group'] == 'no_discount']['cnt']"
   ]
  },
  {
   "cell_type": "code",
   "execution_count": 13,
   "id": "fba77ada",
   "metadata": {},
   "outputs": [
    {
     "name": "stdout",
     "output_type": "stream",
     "text": [
      "p-value = 0.5889, нулевая гипотеза не отвергается - изменение статистически не значимо\n",
      "Изменение теста по сравнению с контролем составило -4.795%\n",
      "Среднее в контроле - 5.977, среднее в тесте - 5.691\n"
     ]
    }
   ],
   "source": [
    " ttest(df_no_discount, df_30_discount, 0.025)"
   ]
  },
  {
   "cell_type": "code",
   "execution_count": 14,
   "id": "7930e6fc",
   "metadata": {},
   "outputs": [
    {
     "name": "stdout",
     "output_type": "stream",
     "text": [
      "p-value = 0.4605, нулевая гипотеза не отвергается - изменение статистически не значимо\n",
      "Изменение теста по сравнению с контролем составило -5.572%\n",
      "Среднее в контроле - 5.977, среднее в тесте - 5.644\n"
     ]
    }
   ],
   "source": [
    " ttest(df_no_discount, df_60_discount, 0.025)"
   ]
  },
  {
   "cell_type": "markdown",
   "id": "03d7f0e1",
   "metadata": {},
   "source": [
    "\n",
    "Изменение в обоих случаях незначимо, услуги 3-го типа покупают одинаково."
   ]
  },
  {
   "cell_type": "markdown",
   "id": "72e5f79d",
   "metadata": {},
   "source": [
    "<center><h3> Количество созданных за период эксперимента объявлений - дополнительная </center></h3>"
   ]
  },
  {
   "cell_type": "code",
   "execution_count": 15,
   "id": "ba7a1184",
   "metadata": {},
   "outputs": [],
   "source": [
    "df_adv_number = pd.read_sql(\"\"\"with adverts as (select user_id,\n",
    "                                                       count(item_id) as adv_count\n",
    "                                                from PUBLIC.user_item_info\n",
    "                                                where item_creation_time  between '2021-09-15' and '2023-10-05'\n",
    "                                                      and item_vertical = '1'\n",
    "                                                group by user_id)\n",
    "\n",
    "                               select a.user_id,\n",
    "                                      a.adv_count,\n",
    "                                      sves.experiment_group \n",
    "                               from PUBLIC.services_verification_experiment_segment sves \n",
    "                               left join adverts a\n",
    "                                   on a.user_id = sves.user_id \n",
    "                               where a.user_id in (select user_id \n",
    "                                                   from PUBLIC.services_verification_discounts\n",
    "                                                    where  discount_day  between '2021-09-15' and '2023-10-05')\"\"\", con=conn)"
   ]
  },
  {
   "cell_type": "code",
   "execution_count": 16,
   "id": "69fe6936",
   "metadata": {},
   "outputs": [],
   "source": [
    "df_adv_number = df_adv_number.fillna(0)"
   ]
  },
  {
   "cell_type": "code",
   "execution_count": 17,
   "id": "9feb8247",
   "metadata": {},
   "outputs": [],
   "source": [
    "df_30_discount = df_adv_number[df_adv_number['experiment_group'] == '30_discount']['adv_count']\n",
    "df_60_discount = df_adv_number[df_adv_number['experiment_group'] == '60_discount']['adv_count']\n",
    "df_no_discount = df_adv_number[df_adv_number['experiment_group'] == 'no_discount']['adv_count']"
   ]
  },
  {
   "cell_type": "code",
   "execution_count": 18,
   "id": "1fd9c3ac",
   "metadata": {},
   "outputs": [
    {
     "name": "stdout",
     "output_type": "stream",
     "text": [
      "p-value = 0.4084, нулевая гипотеза не отвергается - изменение статистически не значимо\n",
      "Изменение теста по сравнению с контролем составило 13.308%\n",
      "Среднее в контроле - 3.444, среднее в тесте - 3.902\n"
     ]
    }
   ],
   "source": [
    " ttest(df_no_discount, df_30_discount, 0.025)"
   ]
  },
  {
   "cell_type": "code",
   "execution_count": 19,
   "id": "d5717cf0",
   "metadata": {},
   "outputs": [
    {
     "name": "stdout",
     "output_type": "stream",
     "text": [
      "p-value = 0.258, нулевая гипотеза не отвергается - изменение статистически не значимо\n",
      "Изменение теста по сравнению с контролем составило -11.25%\n",
      "Среднее в контроле - 3.444, среднее в тесте - 3.056\n"
     ]
    }
   ],
   "source": [
    " ttest(df_no_discount, df_60_discount, 0.025)"
   ]
  },
  {
   "cell_type": "markdown",
   "id": "c0856df2",
   "metadata": {},
   "source": [
    "\n",
    "Гипотеза не подствердилась, во всех группах количество созданных объявлений находится на одном и том же уровне."
   ]
  },
  {
   "cell_type": "markdown",
   "id": "ec9b3264",
   "metadata": {},
   "source": [
    "<center><h3>Количество купленных услуг по продвижению любого типа </center></h3>"
   ]
  },
  {
   "cell_type": "code",
   "execution_count": 20,
   "id": "0e1a169b",
   "metadata": {},
   "outputs": [],
   "source": [
    "df_cnt_buy_all_types = pd.read_sql(\"\"\"with buy as (select upi.user_id,\n",
    "                                            count(upi.item_id) as cnt\n",
    "                                     from PUBLIC.user_payments_info upi\n",
    "                                     left join PUBLIC.user_item_info uii \n",
    "                                         on uii.item_id  = upi.item_id \n",
    "                                     where upi.event_time between '2021-09-15' and '2023-10-05'\n",
    "                                         and uii.item_vertical  = '1'\n",
    "                                     group by upi.user_id)\n",
    "\n",
    "select b.user_id,\n",
    "       b.cnt,\n",
    "       sves.experiment_group \n",
    "from PUBLIC.services_verification_experiment_segment sves \n",
    "left join buy b\n",
    "    on b.user_id = sves.user_id \n",
    "where b.user_id in (select user_id \n",
    "                    from PUBLIC.services_verification_discounts\n",
    "                    where  discount_day  between '2021-09-15' and '2023-10-05')\"\"\", con=conn)"
   ]
  },
  {
   "cell_type": "code",
   "execution_count": 21,
   "id": "d3a686c7",
   "metadata": {},
   "outputs": [],
   "source": [
    "df_cnt_buy_all_types = df_cnt_buy_all_types.fillna(0)"
   ]
  },
  {
   "cell_type": "code",
   "execution_count": 22,
   "id": "6976cea4",
   "metadata": {},
   "outputs": [],
   "source": [
    "df_30_discount = df_cnt_buy_all_types[df_cnt_buy_all_types['experiment_group'] == '30_discount']['cnt']\n",
    "df_60_discount = df_cnt_buy_all_types[df_cnt_buy_all_types['experiment_group'] == '60_discount']['cnt']\n",
    "df_no_discount = df_cnt_buy_all_types[df_cnt_buy_all_types['experiment_group'] == 'no_discount']['cnt']"
   ]
  },
  {
   "cell_type": "code",
   "execution_count": 23,
   "id": "222f663e",
   "metadata": {},
   "outputs": [
    {
     "name": "stdout",
     "output_type": "stream",
     "text": [
      "p-value = 0.8736, нулевая гипотеза не отвергается - изменение статистически не значимо\n",
      "Изменение теста по сравнению с контролем составило -1.185%\n",
      "Среднее в контроле - 9.031, среднее в тесте - 8.924\n"
     ]
    }
   ],
   "source": [
    " ttest(df_no_discount, df_30_discount, 0.025)"
   ]
  },
  {
   "cell_type": "code",
   "execution_count": 24,
   "id": "6b8f9a28",
   "metadata": {},
   "outputs": [
    {
     "name": "stdout",
     "output_type": "stream",
     "text": [
      "p-value = 0.274, нулевая гипотеза не отвергается - изменение статистически не значимо\n",
      "Изменение теста по сравнению с контролем составило -6.658%\n",
      "Среднее в контроле - 9.031, среднее в тесте - 8.43\n"
     ]
    }
   ],
   "source": [
    " ttest(df_no_discount, df_60_discount, 0.025)"
   ]
  },
  {
   "cell_type": "markdown",
   "id": "2eb13dbc",
   "metadata": {},
   "source": [
    "Что уже и ожидалось, количество покупок услуг любого типа тоже не отличается в зависимости от группы"
   ]
  },
  {
   "cell_type": "markdown",
   "id": "1da86b15",
   "metadata": {},
   "source": [
    "<center><h3> Доходы от комиссии за рекламные объявления </center></h3>"
   ]
  },
  {
   "cell_type": "code",
   "execution_count": 25,
   "id": "3a56817e",
   "metadata": {},
   "outputs": [],
   "source": [
    "df_buy = pd.read_sql(\"\"\"with buy as (select upi.user_id,\n",
    "                                            sum(upi.amount_net) as amount\n",
    "                                     from PUBLIC.user_payments_info upi\n",
    "                                     left join PUBLIC.user_item_info uii \n",
    "                                         on uii.item_id  = upi.item_id \n",
    "                                     where upi.event_time between '2021-09-15' and '2023-10-05'\n",
    "                                         and upi.transaction_type  = '3'\n",
    "                                         and uii.item_vertical  = '1'\n",
    "                                     group by upi.user_id)\n",
    "\n",
    "                         select b.user_id,\n",
    "                                case\n",
    "                                   when experiment_group = '30_discount' then  b.amount*0.7\n",
    "                                   when experiment_group = '60_discount' then  b.amount*0.4\n",
    "                                   else b.amount\n",
    "                                end as amount_final,\n",
    "                                sves.experiment_group \n",
    "                         from PUBLIC.services_verification_experiment_segment sves \n",
    "                         left join buy b\n",
    "                             on b.user_id = sves.user_id \n",
    "                         where b.user_id in (select user_id \n",
    "                                             from PUBLIC.services_verification_discounts\n",
    "                                             where  discount_day  between '2021-09-15' and '2023-10-05')\"\"\", con=conn)"
   ]
  },
  {
   "cell_type": "code",
   "execution_count": 26,
   "id": "3a1f6bd6",
   "metadata": {},
   "outputs": [],
   "source": [
    "df_buy = df_buy.fillna(0)"
   ]
  },
  {
   "cell_type": "code",
   "execution_count": 27,
   "id": "4d2ae311",
   "metadata": {},
   "outputs": [],
   "source": [
    "df_30_discount = df_buy[df_buy['experiment_group'] == '30_discount']['amount_final']\n",
    "df_60_discount = df_buy[df_buy['experiment_group'] == '60_discount']['amount_final']\n",
    "df_no_discount = df_buy[df_buy['experiment_group'] == 'no_discount']['amount_final']"
   ]
  },
  {
   "cell_type": "code",
   "execution_count": 28,
   "id": "fdaaf0a1",
   "metadata": {},
   "outputs": [
    {
     "name": "stdout",
     "output_type": "stream",
     "text": [
      "p-value = 0.0, нулевая гипотеза отвергается - изменение статистически значимо\n",
      "Изменение теста по сравнению с контролем составило -30.465%\n",
      "Среднее в контроле - 328.592, среднее в тесте - 228.485\n"
     ]
    }
   ],
   "source": [
    " ttest(df_no_discount, df_30_discount, 0.025)"
   ]
  },
  {
   "cell_type": "code",
   "execution_count": 29,
   "id": "023d5547",
   "metadata": {},
   "outputs": [
    {
     "name": "stdout",
     "output_type": "stream",
     "text": [
      "p-value = 0.0, нулевая гипотеза отвергается - изменение статистически значимо\n",
      "Изменение теста по сравнению с контролем составило -63.168%\n",
      "Среднее в контроле - 328.592, среднее в тесте - 121.026\n"
     ]
    }
   ],
   "source": [
    " ttest(df_no_discount, df_60_discount, 0.025)"
   ]
  },
  {
   "cell_type": "markdown",
   "id": "a0e4954e",
   "metadata": {},
   "source": [
    "Полученные доходы снизились в обоих тестовых группах. При этом они снизились примерно на такое же количество процентов, на сколько была сделана скидка. Это логично, так как как количество продаж не изменилось."
   ]
  },
  {
   "cell_type": "markdown",
   "id": "551d9739",
   "metadata": {},
   "source": [
    "<center><h2> Выводы и рекомендации </center></h2>\n",
    "\n",
    "Данный тест нельзя считать успешным, так как просела одна из главных метрик - доходы за продажи от услуг 3-го типа.\n",
    "\n",
    "Однако следует сделать несколько оговорок:\n",
    "\n",
    "1. Скидка выдвется лишь на 2 дня, а покупка услуг продвижения - не каждодневная. Вполне возможно, что продавцы купили эту услугу по одному разу, и эта гипотеза может полностью объяснить такое падение доходов и отсутствие изменений спроса на услуги 3-го типа.\n",
    "\n",
    "2. Возможно, доходы от услуг 3-го типа не имеют такой сильный вклад в общие доходы, и метрика общего количества доходов изменилась не стат. значимо\n",
    "\n",
    "В дальнейшем предлагается использовать другие методы мотивации для продавцов. Например, использовать меньший размер скидки. Также предлагается использовать больший срок для эксперимента.\n",
    "\n",
    "Нельзя сказать что эксперимент был плохим. Верификация - одноразовое событие, котрое остается с продавцом. В ходе этого эксперимента удалось увеличить % верифицировавшихся, чего бы не произошло без теста"
   ]
  },
  {
   "cell_type": "code",
   "execution_count": null,
   "id": "fce427fc",
   "metadata": {},
   "outputs": [],
   "source": []
  },
  {
   "cell_type": "code",
   "execution_count": null,
   "id": "94ea8d76",
   "metadata": {},
   "outputs": [],
   "source": []
  }
 ],
 "metadata": {
  "kernelspec": {
   "display_name": "Python 3 (ipykernel)",
   "language": "python",
   "name": "python3"
  },
  "language_info": {
   "codemirror_mode": {
    "name": "ipython",
    "version": 3
   },
   "file_extension": ".py",
   "mimetype": "text/x-python",
   "name": "python",
   "nbconvert_exporter": "python",
   "pygments_lexer": "ipython3",
   "version": "3.10.9"
  },
  "toc": {
   "base_numbering": 1,
   "nav_menu": {},
   "number_sections": false,
   "sideBar": false,
   "skip_h1_title": false,
   "title_cell": "Table of Contents",
   "title_sidebar": "Contents",
   "toc_cell": false,
   "toc_position": {},
   "toc_section_display": false,
   "toc_window_display": false
  }
 },
 "nbformat": 4,
 "nbformat_minor": 5
}
